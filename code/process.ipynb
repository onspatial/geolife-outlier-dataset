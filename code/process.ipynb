{
 "cells": [
  {
   "cell_type": "code",
   "execution_count": 5,
   "metadata": {},
   "outputs": [],
   "source": [
    "from pol.utils import split_dataset, label_dataset\n",
    "import pol.config as config\n",
    "import pol.info as info\n",
    "import os"
   ]
  },
  {
   "cell_type": "code",
   "execution_count": 6,
   "metadata": {},
   "outputs": [],
   "source": [
    "dataset_dir = \"/home/hosseinamiri/Research/DataProcessing/Outliers/llm-paper/datasets/pol\""
   ]
  },
  {
   "cell_type": "code",
   "execution_count": 7,
   "metadata": {},
   "outputs": [
    {
     "name": "stdout",
     "output_type": "stream",
     "text": [
      "\n",
      "config.work_outlier_map: {66: 31, 809: 31, 976: 31, 4: 31, 84: 31, 268: 31, 858: 31, 416: 31, 307: 31, 956: 31, 83: 32, 478: 32, 1: 32, 244: 32, 379: 32, 161: 32, 147: 32, 353: 32, 517: 32, 364: 32, 546: 33, 644: 33, 347: 33, 62: 33, 551: 33, 992: 33, 554: 33, 949: 33, 900: 33, 57: 33}\n",
      "\n",
      "config.hunger_outlier_map: {144: 13, 345: 13, 989: 13, 14: 13, 361: 13, 153: 13, 305: 13, 774: 13, 535: 13, 646: 13, 622: 13, 860: 13, 680: 13, 39: 13, 336: 13, 430: 13, 885: 13, 185: 13, 232: 13, 62: 13, 18: 13, 152: 13, 692: 13, 878: 13, 461: 13, 206: 13, 5: 13, 508: 13, 219: 13, 896: 13, 895: 12, 697: 12, 491: 12, 143: 12, 235: 12, 412: 12, 927: 12, 913: 12, 271: 12, 282: 12, 275: 12, 711: 12, 957: 12, 332: 12, 914: 12, 485: 12, 863: 12, 598: 12, 985: 12, 276: 12, 805: 12, 764: 12, 556: 12, 159: 12, 377: 12, 993: 12, 604: 12, 164: 12, 288: 12, 433: 12, 351: 11, 331: 11, 871: 11, 739: 11, 347: 11, 821: 11, 63: 11, 986: 11, 951: 11, 947: 11, 769: 11, 761: 11, 548: 11, 886: 11, 643: 11, 50: 11, 467: 11, 228: 11, 798: 11, 753: 11, 511: 11, 8: 11, 385: 11, 400: 11, 836: 11, 930: 11, 766: 11, 872: 11, 435: 11, 787: 11}\n",
      "\n",
      "config.social_outlier_map: {66: 21, 809: 21, 976: 21, 4: 21, 84: 21, 268: 21, 858: 21, 416: 21, 307: 21, 956: 21, 83: 22, 478: 22, 1: 22, 244: 22, 379: 22, 161: 22, 147: 22, 353: 22, 517: 22, 364: 22, 546: 23, 644: 23, 347: 23, 62: 23, 551: 23, 992: 23, 554: 23, 949: 23, 900: 23, 57: 23}\n",
      "\n",
      "config.combined_outlier_map: {1381: 33, 1708: 33, 2787: 33, 2477: 33, 1813: 33, 2410: 33, 2725: 33, 2752: 33, 2332: 33, 2637: 33, 827: 32, 964: 32, 26: 32, 1036: 32, 1643: 32, 2380: 32, 561: 32, 1895: 32, 1701: 32, 1940: 32, 1013: 31, 1249: 31, 677: 31, 1022: 31, 2667: 31, 193: 31, 1892: 31, 2712: 31, 1547: 31, 2627: 31, 2170: 23, 507: 23, 2139: 23, 2701: 23, 748: 23, 902: 23, 396: 23, 2273: 23, 780: 23, 1585: 23, 2234: 22, 156: 22, 795: 22, 2454: 22, 1745: 22, 226: 22, 1744: 22, 2720: 22, 2100: 22, 2512: 22, 2863: 21, 430: 21, 2217: 21, 216: 21, 738: 21, 2223: 21, 962: 21, 947: 21, 2608: 21, 2614: 21, 2114: 13, 809: 13, 2000: 13, 1028: 13, 84: 13, 1882: 13, 1440: 13, 1331: 13, 956: 13, 1107: 13, 13: 13, 2144: 13, 12: 13, 692: 13, 2796: 13, 979: 13, 2541: 13, 1966: 13, 81: 13, 2167: 13, 2746: 13, 1818: 13, 1659: 13, 1871: 13, 1524: 13, 185: 13, 1188: 13, 2643: 13, 1206: 13, 2880: 13, 1731: 12, 844: 12, 2303: 12, 2102: 12, 1590: 12, 1466: 12, 2258: 12, 2770: 12, 2903: 12, 2257: 12, 1502: 12, 2049: 12, 353: 12, 2565: 12, 1388: 12, 1570: 12, 2692: 12, 347: 12, 551: 12, 554: 12, 1906: 12, 211: 12, 1877: 12, 1881: 12, 1796: 12, 810: 12, 462: 12, 1005: 12, 1441: 12, 2432: 12, 352: 11, 1705: 11, 518: 11, 470: 11, 422: 11, 384: 11, 1884: 11, 2230: 11, 1228: 11, 1419: 11, 1815: 11, 826: 11, 1722: 11, 2394: 11, 14: 11, 1621: 11, 266: 11, 1197: 11, 1580: 11, 50: 11, 1924: 11, 57: 11, 1546: 11, 1450: 11, 2427: 11, 225: 11, 450: 11, 1153: 11, 1230: 11, 539: 11}\n"
     ]
    }
   ],
   "source": [
    "print(\"\\nconfig.work_outlier_map:\",config.work_outlier_map)\n",
    "print(\"\\nconfig.hunger_outlier_map:\",config.hunger_outlier_map)\n",
    "print(\"\\nconfig.social_outlier_map:\",config.social_outlier_map)\n",
    "print(\"\\nconfig.combined_outlier_map:\",config.combined_outlier_map)\n"
   ]
  },
  {
   "cell_type": "code",
   "execution_count": 8,
   "metadata": {},
   "outputs": [
    {
     "name": "stdout",
     "output_type": "stream",
     "text": [
      "{'combined-outliers': ['checkin-atl.tsv', 'checkin-bjng.tsv', 'checkin-nola.tsv', 'checkin-fva.tsv'], 'hunger-outliers': ['checkin-atl.tsv', 'checkin-bjng.tsv', 'checkin-nola.tsv', 'checkin-fva.tsv'], 'social-outliers': ['Checkin.tsv', 'checkin-bjng.tsv'], 'work-outliers': []}\n"
     ]
    },
    {
     "name": "stdout",
     "output_type": "stream",
     "text": [
      "Saving labeled data to /home/hosseinamiri/Research/DataProcessing/Outliers/llm-paper/datasets/pol/combined-outliers/checkin-atl-labeled.tsv\n"
     ]
    }
   ],
   "source": [
    "\n",
    "outliers_folders = ['combined-outliers','hunger-outliers', 'social-outliers', 'work-outliers']\n",
    "files_pool ={}\n",
    "for outlier_folder in outliers_folders:\n",
    "    directory = os.path.join(dataset_dir, outlier_folder)\n",
    "    files = os.listdir(directory)\n",
    "    tsv_files = [f for f in files if f.endswith('.tsv')]\n",
    "    files_pool[outlier_folder] = tsv_files\n",
    "\n",
    "print(files_pool)\n",
    "for outlier_folder, files in files_pool.items():\n",
    "    for file in files:\n",
    "        data_path = os.path.join(dataset_dir, outlier_folder, file)\n",
    "        labeled_path = label_dataset(data_path, config.maps[outlier_folder])\n",
    "        split_dataset(labeled_path, info.normal_days)"
   ]
  }
 ],
 "metadata": {
  "kernelspec": {
   "display_name": "Python 3",
   "language": "python",
   "name": "python3"
  },
  "language_info": {
   "codemirror_mode": {
    "name": "ipython",
    "version": 3
   },
   "file_extension": ".py",
   "mimetype": "text/x-python",
   "name": "python",
   "nbconvert_exporter": "python",
   "pygments_lexer": "ipython3",
   "version": "3.12.2"
  }
 },
 "nbformat": 4,
 "nbformat_minor": 2
}
